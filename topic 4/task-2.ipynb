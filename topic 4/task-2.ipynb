{
 "cells": [
  {
   "cell_type": "code",
   "execution_count": 1,
   "id": "860b96fe",
   "metadata": {},
   "outputs": [
    {
     "name": "stdout",
     "output_type": "stream",
     "text": [
      "Result of '5 1 2 + 4 * + 3 -': 14.0\n",
      "5.0\n",
      "23.0\n",
      "60.0\n"
     ]
    }
   ],
   "source": [
    "class PostfixEvaluator:\n",
    "    def __init__(self):\n",
    "        self.stack = []\n",
    "\n",
    "    def evaluate(self, expression):\n",
    "        operators = {'+', '-', '*', '/'}\n",
    "        tokens = expression.split()\n",
    "\n",
    "        for token in tokens:\n",
    "            if token not in operators:\n",
    "                self.stack.append(float(token))\n",
    "            else:\n",
    "                b = self.stack.pop()\n",
    "                a = self.stack.pop()\n",
    "                if token == '+':\n",
    "                    self.stack.append(a + b)\n",
    "                elif token == '-':\n",
    "                    self.stack.append(a - b)\n",
    "                elif token == '*':\n",
    "                    self.stack.append(a * b)\n",
    "                elif token == '/':\n",
    "                    if b == 0:\n",
    "                        raise ZeroDivisionError(\"Division by zero\")\n",
    "                    self.stack.append(a / b)\n",
    "\n",
    "        return self.stack.pop()\n",
    "\n",
    "\n",
    "if __name__ == \"__main__\":\n",
    "    evaluator = PostfixEvaluator()\n",
    "\n",
    "    expression = \"5 1 2 + 4 * + 3 -\"\n",
    "    result = evaluator.evaluate(expression)\n",
    "    print(f\"Result of '{expression}': {result}\")  \n",
    "\n",
    "    print(evaluator.evaluate(\"2 3 +\")) \n",
    "    print(evaluator.evaluate(\"10 2 8 * + 3 -\"))  \n",
    "    print(evaluator.evaluate(\"7 4 5 + * 3 -\")) "
   ]
  },
  {
   "cell_type": "code",
   "execution_count": null,
   "id": "1869b29d",
   "metadata": {},
   "outputs": [],
   "source": []
  }
 ],
 "metadata": {
  "kernelspec": {
   "display_name": "Python 3",
   "language": "python",
   "name": "python3"
  },
  "language_info": {
   "codemirror_mode": {
    "name": "ipython",
    "version": 3
   },
   "file_extension": ".py",
   "mimetype": "text/x-python",
   "name": "python",
   "nbconvert_exporter": "python",
   "pygments_lexer": "ipython3",
   "version": "3.11.2"
  }
 },
 "nbformat": 4,
 "nbformat_minor": 5
}
