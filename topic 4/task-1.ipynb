{
 "cells": [
  {
   "cell_type": "markdown",
   "id": "fbc58a8c",
   "metadata": {},
   "source": [
    "<b> Stack using Array </b>\n"
   ]
  },
  {
   "cell_type": "code",
   "execution_count": null,
   "id": "2f60244b",
   "metadata": {},
   "outputs": [],
   "source": [
    "class StackArray:\n",
    "    def __init__(self):\n",
    "        self.stack = []\n",
    "\n",
    "    def push(self, element):        \n",
    "        self.stack.append(element)\n",
    "\n",
    "    def pop(self):        \n",
    "        if self.is_empty():\n",
    "            raise IndexError(\"Pop from an empty stack\")\n",
    "        return self.stack.pop()\n",
    "\n",
    "    def peek(self):       \n",
    "        if self.is_empty():\n",
    "            raise IndexError(\"Peek from an empty stack\")\n",
    "        return self.stack[-1]\n",
    "\n",
    "    def is_empty(self):\n",
    "        return len(self.stack) == 0\n",
    "\n",
    "    def size(self):\n",
    "        return len(self.stack)"
   ]
  },
  {
   "cell_type": "markdown",
   "id": "8e770f75",
   "metadata": {},
   "source": [
    "<b> Stack using Linked-List </b>"
   ]
  },
  {
   "cell_type": "code",
   "execution_count": null,
   "id": "dda8290a",
   "metadata": {},
   "outputs": [],
   "source": [
    "class Node:\n",
    "    def __init__(self, data):\n",
    "        self.data = data\n",
    "        self.next = None\n",
    "\n",
    "class StackLinkedList:\n",
    "    def __init__(self):\n",
    "        self.top = None\n",
    "        self._size = 0\n",
    "\n",
    "    def push(self, element):\n",
    "        new_node = Node(element)\n",
    "        new_node.next = self.top\n",
    "        self.top = new_node\n",
    "        self._size += 1\n",
    "\n",
    "    def pop(self):\n",
    "        if self.is_empty():\n",
    "            return None\n",
    "        popped = self.top.data\n",
    "        self.top = self.top.next\n",
    "        self._size -= 1\n",
    "        return popped\n",
    "\n",
    "    def peek(self):\n",
    "        if self.is_empty():\n",
    "            return None\n",
    "        return self.top.data\n",
    "\n",
    "    def is_empty(self):\n",
    "        return self.top is None\n",
    "\n",
    "    def size(self):\n",
    "        return self._size"
   ]
  },
  {
   "cell_type": "code",
   "execution_count": null,
   "id": "696eace1",
   "metadata": {},
   "outputs": [],
   "source": []
  }
 ],
 "metadata": {
  "language_info": {
   "name": "python"
  }
 },
 "nbformat": 4,
 "nbformat_minor": 5
}
