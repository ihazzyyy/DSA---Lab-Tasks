{
 "cells": [
  {
   "cell_type": "markdown",
   "id": "4c889410",
   "metadata": {},
   "source": [
    "unable to understand "
   ]
  }
 ],
 "metadata": {
  "language_info": {
   "name": "python"
  }
 },
 "nbformat": 4,
 "nbformat_minor": 5
}
