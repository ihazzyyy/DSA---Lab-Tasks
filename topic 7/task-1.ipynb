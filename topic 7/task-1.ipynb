{
 "cells": [
  {
   "cell_type": "markdown",
   "id": "63b2d6d9",
   "metadata": {},
   "source": [
    "Entire topic is difficult "
   ]
  }
 ],
 "metadata": {
  "language_info": {
   "name": "python"
  }
 },
 "nbformat": 4,
 "nbformat_minor": 5
}
