{
 "cells": [
  {
   "cell_type": "code",
   "execution_count": 31,
   "id": "c7e4d259",
   "metadata": {},
   "outputs": [],
   "source": [
    "import time \n",
    "from functools import lru_cache"
   ]
  },
  {
   "cell_type": "code",
   "execution_count": 23,
   "id": "723d918c",
   "metadata": {},
   "outputs": [],
   "source": [
    "def measure_time(func, *args):\n",
    "    start_time = time.time()\n",
    "    func(*args)\n",
    "    end_time = time.time()\n",
    "    return end_time - start_time"
   ]
  },
  {
   "cell_type": "markdown",
   "id": "4335cbe3",
   "metadata": {},
   "source": [
    "<b> Iterative </b>"
   ]
  },
  {
   "cell_type": "code",
   "execution_count": null,
   "id": "63b8ce43",
   "metadata": {},
   "outputs": [
    {
     "name": "stdout",
     "output_type": "stream",
     "text": [
      "0\n",
      "1\n",
      "1\n",
      "2\n",
      "3\n",
      "5\n",
      "8\n",
      "13\n",
      "21\n",
      "34\n",
      "55\n",
      "0\n",
      "0\n",
      "1\n",
      "1\n",
      "2\n",
      "3\n",
      "5\n",
      "8\n",
      "13\n",
      "21\n",
      "34\n",
      "55\n",
      "89\n",
      "144\n",
      "233\n",
      "377\n",
      "610\n",
      "987\n",
      "1597\n",
      "2584\n",
      "4181\n",
      "6765\n",
      "0\n",
      "0\n",
      "1\n",
      "1\n",
      "2\n",
      "3\n",
      "5\n",
      "8\n",
      "13\n",
      "21\n",
      "34\n",
      "55\n",
      "89\n",
      "144\n",
      "233\n",
      "377\n",
      "610\n",
      "987\n",
      "1597\n",
      "2584\n",
      "4181\n",
      "6765\n",
      "10946\n",
      "17711\n",
      "28657\n",
      "46368\n",
      "75025\n",
      "121393\n",
      "196418\n",
      "317811\n",
      "514229\n",
      "832040\n",
      "0\n",
      "0\n",
      "1\n",
      "1\n",
      "2\n",
      "3\n",
      "5\n",
      "8\n",
      "13\n",
      "21\n",
      "34\n",
      "55\n",
      "89\n",
      "144\n",
      "233\n",
      "377\n",
      "610\n",
      "987\n",
      "1597\n",
      "2584\n",
      "4181\n",
      "6765\n",
      "10946\n",
      "17711\n",
      "28657\n",
      "46368\n",
      "75025\n",
      "121393\n",
      "196418\n",
      "317811\n",
      "514229\n",
      "832040\n",
      "1346269\n",
      "2178309\n",
      "3524578\n",
      "5702887\n",
      "9227465\n",
      "14930352\n",
      "24157817\n",
      "39088169\n",
      "63245986\n",
      "102334155\n",
      "0\n",
      "time fo n = 10: 0.0009975433349609375s\n",
      "time fo n = 20: 0.0s\n",
      "time fo n = 30: 0.0009965896606445312s\n",
      "time fo n = 40: 0.0s\n"
     ]
    }
   ],
   "source": [
    "def nth_fibonacci_iterative(x):\n",
    "    start = 0 \n",
    "    next  = 1\n",
    "    print(0)\n",
    "    print(1)\n",
    "\n",
    "    for _ in range(2, x+1):\n",
    "        start, next = next, (start + next)\n",
    "        print(next)\n",
    "    print(0)\n",
    "\n",
    "timefor10 = measure_time(nth_fibonacci_iterative, 10)\n",
    "timefor20 = measure_time(nth_fibonacci_iterative, 20)\n",
    "timefor30 = measure_time(nth_fibonacci_iterative, 30)\n",
    "timefor40 = measure_time(nth_fibonacci_iterative, 40)\n",
    "\n",
    "print(f'time fo n = 10: {timefor10}s')\n",
    "print(f'time fo n = 20: {timefor20}s')\n",
    "print(f'time fo n = 30: {timefor30}s')\n",
    "print(f'time fo n = 40: {timefor40}s')\n"
   ]
  },
  {
   "cell_type": "markdown",
   "id": "798d9ace",
   "metadata": {},
   "source": [
    "<b> Recursive </b>"
   ]
  },
  {
   "cell_type": "code",
   "execution_count": 30,
   "id": "f4157ceb",
   "metadata": {},
   "outputs": [
    {
     "name": "stdout",
     "output_type": "stream",
     "text": [
      "time fo n = 10: 0.0s\n",
      "time fo n = 20: 0.0049860477447509766s\n",
      "time fo n = 30: 0.6173489093780518s\n",
      "time fo n = 40: 44.75932216644287s\n"
     ]
    }
   ],
   "source": [
    "def nth_fibonacci_recursive(x):\n",
    "    if x == 0:\n",
    "        return 0\n",
    "    elif x == 1:\n",
    "        return 1\n",
    "    else:\n",
    "        return nth_fibonacci_recursive(x-1) + nth_fibonacci_recursive(x-2)\n",
    "\n",
    "timefor10 = measure_time(nth_fibonacci_recursive, 10)\n",
    "timefor20 = measure_time(nth_fibonacci_recursive, 20)\n",
    "timefor30 = measure_time(nth_fibonacci_recursive, 30)\n",
    "timefor40 = measure_time(nth_fibonacci_recursive, 40)\n",
    "\n",
    "print(f'time fo n = 10: {timefor10}s')\n",
    "print(f'time fo n = 20: {timefor20}s')\n",
    "print(f'time fo n = 30: {timefor30}s')\n",
    "print(f'time fo n = 40: {timefor40}s')"
   ]
  },
  {
   "cell_type": "markdown",
   "id": "339d7f89",
   "metadata": {},
   "source": [
    "<b> Memomization version </b>\n"
   ]
  },
  {
   "cell_type": "code",
   "execution_count": 33,
   "id": "13dd1d04",
   "metadata": {},
   "outputs": [
    {
     "name": "stdout",
     "output_type": "stream",
     "text": [
      "time fo n = 10: 0.0s\n",
      "time fo n = 20: 0.0s\n",
      "time fo n = 30: 0.0s\n",
      "time fo n = 40: 0.0s\n"
     ]
    }
   ],
   "source": [
    "@lru_cache(maxsize = None)\n",
    "def nth_fibonacci_recursive(x):\n",
    "    if x == 0:\n",
    "        return 0\n",
    "    elif x == 1:\n",
    "        return 1\n",
    "    else:\n",
    "        return nth_fibonacci_recursive(x-1) + nth_fibonacci_recursive(x-2)\n",
    "\n",
    "timefor10 = measure_time(nth_fibonacci_recursive, 10)\n",
    "timefor20 = measure_time(nth_fibonacci_recursive, 20)\n",
    "timefor30 = measure_time(nth_fibonacci_recursive, 30)\n",
    "timefor40 = measure_time(nth_fibonacci_recursive, 40)\n",
    "\n",
    "print(f'time fo n = 10: {timefor10}s')\n",
    "print(f'time fo n = 20: {timefor20}s')\n",
    "print(f'time fo n = 30: {timefor30}s')\n",
    "print(f'time fo n = 40: {timefor40}s')"
   ]
  },
  {
   "cell_type": "markdown",
   "id": "3df73761",
   "metadata": {},
   "source": [
    "The naive recursive approach for Fibonacci has a time complexity of O(2ⁿ), making it inefficient for large inputs, and uses O(n) space due to recursion depth. Memoization optimizes this by caching results, reducing the time complexity to O(n) while still using O(n) space for the cache. This approach is efficient but can still be memory-heavy. The iterative approach, however, is the most efficient, with O(n) time complexity and O(1) space usage, making it ideal for large inputs. Recursion should be avoided when deep recursion could cause stack overflow or when an iterative solution is simpler and more memory-efficient."
   ]
  }
 ],
 "metadata": {
  "kernelspec": {
   "display_name": "Python 3",
   "language": "python",
   "name": "python3"
  },
  "language_info": {
   "codemirror_mode": {
    "name": "ipython",
    "version": 3
   },
   "file_extension": ".py",
   "mimetype": "text/x-python",
   "name": "python",
   "nbconvert_exporter": "python",
   "pygments_lexer": "ipython3",
   "version": "3.11.2"
  }
 },
 "nbformat": 4,
 "nbformat_minor": 5
}
