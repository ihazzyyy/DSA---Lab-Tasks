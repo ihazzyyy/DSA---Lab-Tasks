{
 "cells": [
  {
   "cell_type": "markdown",
   "id": "3cef1587",
   "metadata": {},
   "source": [
    "BFS"
   ]
  },
  {
   "cell_type": "code",
   "execution_count": 1,
   "id": "690c7153",
   "metadata": {},
   "outputs": [],
   "source": [
    "from collections import deque\n",
    "\n",
    "def bfs(graph, start):\n",
    "    visited = set()\n",
    "    queue = deque([start])\n",
    "    result = []\n",
    "\n",
    "    while queue:\n",
    "        node = queue.popleft()\n",
    "        if node not in visited:\n",
    "            visited.add(node)\n",
    "            result.append(node)\n",
    "            for neighbor in graph[node]:\n",
    "                if neighbor not in visited:\n",
    "                    queue.append(neighbor)\n",
    "    return result\n"
   ]
  },
  {
   "cell_type": "markdown",
   "id": "2aa28b9d",
   "metadata": {},
   "source": [
    "DFS"
   ]
  },
  {
   "cell_type": "code",
   "execution_count": 2,
   "id": "42be344a",
   "metadata": {},
   "outputs": [],
   "source": [
    "def dfs(graph, start, visited=None, result=None):\n",
    "    if visited is None:\n",
    "        visited = set()\n",
    "    if result is None:\n",
    "        result = []\n",
    "\n",
    "    visited.add(start)\n",
    "    result.append(start)\n",
    "\n",
    "    for neighbor in graph[start]:\n",
    "        if neighbor not in visited:\n",
    "            dfs(graph, neighbor, visited, result)\n",
    "    return result\n"
   ]
  },
  {
   "cell_type": "code",
   "execution_count": null,
   "id": "f843f297",
   "metadata": {},
   "outputs": [],
   "source": [
    "graph = {\n",
    "    0: [1, 2],\n",
    "    1: [3, 4],\n",
    "    2: [5],\n",
    "    3: [],\n",
    "    4: [],\n",
    "    5: []\n",
    "}"
   ]
  },
  {
   "cell_type": "code",
   "execution_count": null,
   "id": "f9ae48d3",
   "metadata": {},
   "outputs": [
    {
     "name": "stdout",
     "output_type": "stream",
     "text": [
      "BFS Traversal: [0, 1, 2, 3, 4, 5]\n",
      "DFS Traversal: [0, 1, 3, 4, 2, 5]\n"
     ]
    }
   ],
   "source": [
    "print(\"BFS Traversal:\", bfs(graph, 0)) \n",
    "print(\"DFS Traversal:\", dfs(graph, 0))  "
   ]
  },
  {
   "cell_type": "code",
   "execution_count": null,
   "id": "c04f2db4",
   "metadata": {},
   "outputs": [],
   "source": []
  }
 ],
 "metadata": {
  "kernelspec": {
   "display_name": "Python 3",
   "language": "python",
   "name": "python3"
  },
  "language_info": {
   "codemirror_mode": {
    "name": "ipython",
    "version": 3
   },
   "file_extension": ".py",
   "mimetype": "text/x-python",
   "name": "python",
   "nbconvert_exporter": "python",
   "pygments_lexer": "ipython3",
   "version": "3.11.2"
  }
 },
 "nbformat": 4,
 "nbformat_minor": 5
}
