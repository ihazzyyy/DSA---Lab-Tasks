{
 "cells": [
  {
   "cell_type": "code",
   "execution_count": null,
   "id": "054cfb6a",
   "metadata": {},
   "outputs": [],
   "source": [
    "import heapq\n",
    "\n",
    "def find_k_smallest(arr, k):\n",
    "    if k == 0:\n",
    "        return []\n",
    "    return heapq.nsmallest(k, arr)\n",
    "\n",
    "def find_k_largest(arr, k):\n",
    "    if k == 0:\n",
    "        return []\n",
    "    return heapq.nlargest(k, arr)\n",
    "\n",
    "arr = [10, 4, 3, 20, 15, 7]\n",
    "print(\"K Smallest (3):\", find_k_smallest(arr, 3))\n",
    "print(\"K Largest (2):\", find_k_largest(arr, 2))\n",
    "\n",
    "arr2 = [1, 8, 2, 6, 5, 7, 9, 10]\n",
    "print(\"K Smallest (4):\", find_k_smallest(arr2, 4))\n",
    "print(\"K Largest (3):\", find_k_largest(arr2, 3))"
   ]
  }
 ],
 "metadata": {
  "language_info": {
   "name": "python"
  }
 },
 "nbformat": 4,
 "nbformat_minor": 5
}
